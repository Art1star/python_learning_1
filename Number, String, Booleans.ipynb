{
 "cells": [
  {
   "cell_type": "markdown",
   "id": "177901b3",
   "metadata": {},
   "source": [
    "The built-in data types in Python are as follows:\n",
    "1. Numbers\n",
    "2. String\n",
    "3. Boolean"
   ]
  },
  {
   "cell_type": "markdown",
   "id": "522833ee",
   "metadata": {},
   "source": [
    "1. Numbers: The number data types in Python are divided into three categories: int, float, and complex."
   ]
  },
  {
   "cell_type": "code",
   "execution_count": null,
   "id": "6c0fe015",
   "metadata": {},
   "outputs": [],
   "source": [
    "a = 10"
   ]
  },
  {
   "cell_type": "code",
   "execution_count": null,
   "id": "604a9996",
   "metadata": {
    "scrolled": true
   },
   "outputs": [],
   "source": [
    "type(a)"
   ]
  },
  {
   "cell_type": "code",
   "execution_count": null,
   "id": "dcf5240e",
   "metadata": {},
   "outputs": [],
   "source": [
    "b = 1.7"
   ]
  },
  {
   "cell_type": "code",
   "execution_count": null,
   "id": "ea38ca2d",
   "metadata": {},
   "outputs": [],
   "source": [
    "type(b)"
   ]
  },
  {
   "cell_type": "markdown",
   "id": "3289cf96",
   "metadata": {},
   "source": [
    "Pembeda = decimal point (0.0)"
   ]
  },
  {
   "cell_type": "code",
   "execution_count": null,
   "id": "a36f8065",
   "metadata": {},
   "outputs": [],
   "source": [
    "a = 1825"
   ]
  },
  {
   "cell_type": "code",
   "execution_count": null,
   "id": "14f696f6",
   "metadata": {},
   "outputs": [],
   "source": [
    "type(a)"
   ]
  },
  {
   "cell_type": "code",
   "execution_count": null,
   "id": "604ea8e2",
   "metadata": {},
   "outputs": [],
   "source": [
    "b = 18.25"
   ]
  },
  {
   "cell_type": "code",
   "execution_count": null,
   "id": "4fef590d",
   "metadata": {},
   "outputs": [],
   "source": [
    "type(b)"
   ]
  },
  {
   "cell_type": "code",
   "execution_count": null,
   "id": "136e9713",
   "metadata": {
    "scrolled": true
   },
   "outputs": [],
   "source": [
    "print(a)"
   ]
  },
  {
   "cell_type": "markdown",
   "id": "0f605456",
   "metadata": {},
   "source": [
    "Python also supports imaginary and complex numbers. Complex number values are written in the form of x + yj, where x is the real part, and y is the imaginary part. For example:"
   ]
  },
  {
   "cell_type": "code",
   "execution_count": null,
   "id": "a3f0c000",
   "metadata": {},
   "outputs": [],
   "source": [
    "c = 1+2j"
   ]
  },
  {
   "cell_type": "code",
   "execution_count": null,
   "id": "f3bec0d9",
   "metadata": {},
   "outputs": [],
   "source": [
    "type(c)"
   ]
  },
  {
   "cell_type": "code",
   "execution_count": null,
   "id": "e4257781",
   "metadata": {},
   "outputs": [],
   "source": [
    "c = 2+6j"
   ]
  },
  {
   "cell_type": "code",
   "execution_count": null,
   "id": "1c055e87",
   "metadata": {},
   "outputs": [],
   "source": [
    "type(c)"
   ]
  },
  {
   "cell_type": "markdown",
   "id": "31ed38a1",
   "metadata": {},
   "source": [
    "2. String: A string is a data type used to represent and manipulate textual data in computer programming."
   ]
  },
  {
   "cell_type": "code",
   "execution_count": null,
   "id": "45f354fa",
   "metadata": {},
   "outputs": [],
   "source": [
    "a = \"Hello World\""
   ]
  },
  {
   "cell_type": "code",
   "execution_count": null,
   "id": "db8f751e",
   "metadata": {
    "scrolled": true
   },
   "outputs": [],
   "source": [
    "print(a)"
   ]
  },
  {
   "cell_type": "code",
   "execution_count": null,
   "id": "76197dca",
   "metadata": {},
   "outputs": [],
   "source": [
    "type(a)"
   ]
  },
  {
   "cell_type": "code",
   "execution_count": null,
   "id": "3df83a99",
   "metadata": {},
   "outputs": [],
   "source": [
    "a = 'Hello World'"
   ]
  },
  {
   "cell_type": "code",
   "execution_count": null,
   "id": "865658bc",
   "metadata": {},
   "outputs": [],
   "source": [
    "print(a)"
   ]
  },
  {
   "cell_type": "code",
   "execution_count": 1,
   "id": "6ecf38b4",
   "metadata": {},
   "outputs": [
    {
     "ename": "SyntaxError",
     "evalue": "unterminated string literal (detected at line 1) (3381452681.py, line 1)",
     "output_type": "error",
     "traceback": [
      "\u001b[1;36m  Cell \u001b[1;32mIn[1], line 1\u001b[1;36m\u001b[0m\n\u001b[1;33m    a = \"Bootcamp Data Analyst. Kampus Merdeka x MyEduSolve. Kelas D\"\"\u001b[0m\n\u001b[1;37m                                                                     ^\u001b[0m\n\u001b[1;31mSyntaxError\u001b[0m\u001b[1;31m:\u001b[0m unterminated string literal (detected at line 1)\n"
     ]
    }
   ],
   "source": [
    "a = \"Bootcamp Data Analyst. Kampus Merdeka x MyEduSolve. Kelas D\"\""
   ]
  },
  {
   "cell_type": "code",
   "execution_count": null,
   "id": "781f79ec",
   "metadata": {},
   "outputs": [],
   "source": [
    "print(a)"
   ]
  },
  {
   "cell_type": "code",
   "execution_count": 2,
   "id": "ef419989",
   "metadata": {},
   "outputs": [],
   "source": [
    "b = \"Bootcamp Data Analyst. \\nKampus Merdeka x MyEduSolve. \\nKelas D\""
   ]
  },
  {
   "cell_type": "code",
   "execution_count": 3,
   "id": "390b32e9",
   "metadata": {},
   "outputs": [
    {
     "name": "stdout",
     "output_type": "stream",
     "text": [
      "Bootcamp Data Analyst. \n",
      "Kampus Merdeka x MyEduSolve. \n",
      "Kelas D\n"
     ]
    }
   ],
   "source": [
    "print(b)"
   ]
  },
  {
   "cell_type": "code",
   "execution_count": 4,
   "id": "91e8728b",
   "metadata": {},
   "outputs": [],
   "source": [
    "a = \"Ini adalah string satu baris.\""
   ]
  },
  {
   "cell_type": "code",
   "execution_count": 5,
   "id": "fa2f0be5",
   "metadata": {},
   "outputs": [
    {
     "name": "stdout",
     "output_type": "stream",
     "text": [
      "Ini adalah string satu baris.\n"
     ]
    }
   ],
   "source": [
    "print(a)"
   ]
  },
  {
   "cell_type": "code",
   "execution_count": null,
   "id": "c312180d",
   "metadata": {},
   "outputs": [],
   "source": [
    "b = \"\"\"\n",
    "Ini adalah string\n",
    "dengan empat baris\n",
    "menggunakan triple \n",
    "petik.\n",
    "\"\"\""
   ]
  },
  {
   "cell_type": "code",
   "execution_count": null,
   "id": "2b5fa2ad",
   "metadata": {
    "scrolled": true
   },
   "outputs": [],
   "source": [
    "print(b)"
   ]
  },
  {
   "cell_type": "code",
   "execution_count": null,
   "id": "064671b2",
   "metadata": {},
   "outputs": [],
   "source": [
    "c = \"Ini adalah string\\ndengan empat baris\\ndengan karakter newline.\""
   ]
  },
  {
   "cell_type": "code",
   "execution_count": null,
   "id": "d03a76bc",
   "metadata": {},
   "outputs": [],
   "source": [
    "print(c)"
   ]
  },
  {
   "cell_type": "markdown",
   "id": "46738157",
   "metadata": {},
   "source": [
    "3. Boolean: Boolean or bool data type is a subclass of integers (integer or int) with only two possible values: True and False."
   ]
  },
  {
   "cell_type": "code",
   "execution_count": null,
   "id": "4caa6ea3",
   "metadata": {},
   "outputs": [],
   "source": [
    "2 > 5"
   ]
  },
  {
   "cell_type": "code",
   "execution_count": null,
   "id": "bd41cfcf",
   "metadata": {},
   "outputs": [],
   "source": [
    "2 == 5"
   ]
  },
  {
   "cell_type": "code",
   "execution_count": null,
   "id": "dbf0fc23",
   "metadata": {},
   "outputs": [],
   "source": [
    "2 <= 2"
   ]
  },
  {
   "cell_type": "code",
   "execution_count": null,
   "id": "383a75c3",
   "metadata": {},
   "outputs": [],
   "source": [
    "2 != 3 "
   ]
  },
  {
   "cell_type": "code",
   "execution_count": null,
   "id": "c9eb829b",
   "metadata": {},
   "outputs": [],
   "source": []
  }
 ],
 "metadata": {
  "kernelspec": {
   "display_name": "Python 3 (ipykernel)",
   "language": "python",
   "name": "python3"
  },
  "language_info": {
   "codemirror_mode": {
    "name": "ipython",
    "version": 3
   },
   "file_extension": ".py",
   "mimetype": "text/x-python",
   "name": "python",
   "nbconvert_exporter": "python",
   "pygments_lexer": "ipython3",
   "version": "3.11.4"
  }
 },
 "nbformat": 4,
 "nbformat_minor": 5
}

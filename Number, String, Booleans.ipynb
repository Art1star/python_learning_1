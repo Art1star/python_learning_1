{
 "cells": [
  {
   "cell_type": "markdown",
   "id": "177901b3",
   "metadata": {},
   "source": [
    "The built-in data types in Python are as follows:\n",
    "1. Numbers\n",
    "2. String\n",
    "3. Boolean"
   ]
  },
  {
   "cell_type": "markdown",
   "id": "522833ee",
   "metadata": {},
   "source": [
    "1. Numers: The number data types in Python are divided into three categories: int, float, and complex."
   ]
  },
  {
   "cell_type": "code",
   "execution_count": 1,
   "id": "6c0fe015",
   "metadata": {},
   "outputs": [],
   "source": [
    "a = 10"
   ]
  },
  {
   "cell_type": "code",
   "execution_count": 2,
   "id": "604a9996",
   "metadata": {
    "scrolled": true
   },
   "outputs": [
    {
     "data": {
      "text/plain": [
       "int"
      ]
     },
     "execution_count": 2,
     "metadata": {},
     "output_type": "execute_result"
    }
   ],
   "source": [
    "type(a)"
   ]
  },
  {
   "cell_type": "code",
   "execution_count": 3,
   "id": "dcf5240e",
   "metadata": {},
   "outputs": [],
   "source": [
    "b = 1.7"
   ]
  },
  {
   "cell_type": "code",
   "execution_count": 4,
   "id": "ea38ca2d",
   "metadata": {},
   "outputs": [
    {
     "data": {
      "text/plain": [
       "float"
      ]
     },
     "execution_count": 4,
     "metadata": {},
     "output_type": "execute_result"
    }
   ],
   "source": [
    "type(b)"
   ]
  },
  {
   "cell_type": "markdown",
   "id": "0f605456",
   "metadata": {},
   "source": [
    "Python also supports imaginary and complex numbers. Complex number values are written in the form of x + yj, where x is the real part, and y is the imaginary part. For example:"
   ]
  },
  {
   "cell_type": "code",
   "execution_count": 5,
   "id": "e4257781",
   "metadata": {},
   "outputs": [],
   "source": [
    "c = 2+6j"
   ]
  },
  {
   "cell_type": "code",
   "execution_count": 6,
   "id": "1c055e87",
   "metadata": {},
   "outputs": [
    {
     "data": {
      "text/plain": [
       "complex"
      ]
     },
     "execution_count": 6,
     "metadata": {},
     "output_type": "execute_result"
    }
   ],
   "source": [
    "type(c)"
   ]
  },
  {
   "cell_type": "markdown",
   "id": "31ed38a1",
   "metadata": {},
   "source": [
    "2. String: A string is a data type used to represent and manipulate textual data in computer programming."
   ]
  },
  {
   "cell_type": "code",
   "execution_count": 7,
   "id": "45f354fa",
   "metadata": {},
   "outputs": [],
   "source": [
    "a = \"Hello World\""
   ]
  },
  {
   "cell_type": "code",
   "execution_count": 8,
   "id": "db8f751e",
   "metadata": {
    "scrolled": true
   },
   "outputs": [
    {
     "data": {
      "text/plain": [
       "str"
      ]
     },
     "execution_count": 8,
     "metadata": {},
     "output_type": "execute_result"
    }
   ],
   "source": [
    "type(a)"
   ]
  },
  {
   "cell_type": "code",
   "execution_count": 9,
   "id": "76197dca",
   "metadata": {},
   "outputs": [
    {
     "name": "stdout",
     "output_type": "stream",
     "text": [
      "Hello World\n"
     ]
    }
   ],
   "source": [
    "print(a)"
   ]
  },
  {
   "cell_type": "code",
   "execution_count": 10,
   "id": "3df83a99",
   "metadata": {},
   "outputs": [],
   "source": [
    "a = 'Hello World'"
   ]
  },
  {
   "cell_type": "code",
   "execution_count": 11,
   "id": "865658bc",
   "metadata": {},
   "outputs": [
    {
     "name": "stdout",
     "output_type": "stream",
     "text": [
      "Hello World\n"
     ]
    }
   ],
   "source": [
    "print(a)"
   ]
  },
  {
   "cell_type": "code",
   "execution_count": 12,
   "id": "6ecf38b4",
   "metadata": {},
   "outputs": [],
   "source": [
    "a = \"\"\"Bootcamp Data Analyst. Kampus Merdeka x MyEduSolve. Kelas D\"\"\""
   ]
  },
  {
   "cell_type": "code",
   "execution_count": 13,
   "id": "781f79ec",
   "metadata": {},
   "outputs": [
    {
     "name": "stdout",
     "output_type": "stream",
     "text": [
      "Bootcamp Data Analyst. Kampus Merdeka x MyEduSolve. Kelas D\n"
     ]
    }
   ],
   "source": [
    "print(a)"
   ]
  },
  {
   "cell_type": "code",
   "execution_count": 14,
   "id": "ef419989",
   "metadata": {},
   "outputs": [],
   "source": [
    "b = \"Bootcamp Data Analyst. \\nKampus Merdeka x MyEduSolve. \\nKelas D\""
   ]
  },
  {
   "cell_type": "code",
   "execution_count": 15,
   "id": "390b32e9",
   "metadata": {},
   "outputs": [
    {
     "name": "stdout",
     "output_type": "stream",
     "text": [
      "Bootcamp Data Analyst. \n",
      "Kampus Merdeka x MyEduSolve. \n",
      "Kelas D\n"
     ]
    }
   ],
   "source": [
    "print(b)"
   ]
  },
  {
   "cell_type": "code",
   "execution_count": 16,
   "id": "91e8728b",
   "metadata": {},
   "outputs": [],
   "source": [
    "a = \"Ini adalah string satu baris.\""
   ]
  },
  {
   "cell_type": "code",
   "execution_count": 17,
   "id": "fa2f0be5",
   "metadata": {},
   "outputs": [
    {
     "name": "stdout",
     "output_type": "stream",
     "text": [
      "Ini adalah string satu baris.\n"
     ]
    }
   ],
   "source": [
    "print(a)"
   ]
  },
  {
   "cell_type": "code",
   "execution_count": 18,
   "id": "c312180d",
   "metadata": {},
   "outputs": [],
   "source": [
    "b = \"\"\"\n",
    "Ini adalah string\n",
    "dengan empat baris\n",
    "menggunakan triple \n",
    "petik.\n",
    "\"\"\""
   ]
  },
  {
   "cell_type": "code",
   "execution_count": 19,
   "id": "2b5fa2ad",
   "metadata": {
    "scrolled": true
   },
   "outputs": [
    {
     "name": "stdout",
     "output_type": "stream",
     "text": [
      "\n",
      "Ini adalah string\n",
      "dengan empat baris\n",
      "menggunakan triple \n",
      "petik.\n",
      "\n"
     ]
    }
   ],
   "source": [
    "print(b)"
   ]
  },
  {
   "cell_type": "code",
   "execution_count": 20,
   "id": "064671b2",
   "metadata": {},
   "outputs": [],
   "source": [
    "c = \"Ini adalah string\\ndengan empat baris\\ndengan karakter newline.\""
   ]
  },
  {
   "cell_type": "code",
   "execution_count": 21,
   "id": "d03a76bc",
   "metadata": {},
   "outputs": [
    {
     "name": "stdout",
     "output_type": "stream",
     "text": [
      "Ini adalah string\n",
      "dengan empat baris\n",
      "dengan karakter newline.\n"
     ]
    }
   ],
   "source": [
    "print(c)"
   ]
  },
  {
   "cell_type": "markdown",
   "id": "46738157",
   "metadata": {},
   "source": [
    "3. Boolean: Boolean or bool data type is a subclass of integers (integer or int) with only two possible values: True and False."
   ]
  },
  {
   "cell_type": "code",
   "execution_count": 22,
   "id": "4caa6ea3",
   "metadata": {},
   "outputs": [
    {
     "data": {
      "text/plain": [
       "False"
      ]
     },
     "execution_count": 22,
     "metadata": {},
     "output_type": "execute_result"
    }
   ],
   "source": [
    "2 > 5"
   ]
  },
  {
   "cell_type": "code",
   "execution_count": 23,
   "id": "bd41cfcf",
   "metadata": {},
   "outputs": [
    {
     "data": {
      "text/plain": [
       "False"
      ]
     },
     "execution_count": 23,
     "metadata": {},
     "output_type": "execute_result"
    }
   ],
   "source": [
    "2 == 5"
   ]
  },
  {
   "cell_type": "code",
   "execution_count": 24,
   "id": "dbf0fc23",
   "metadata": {},
   "outputs": [
    {
     "data": {
      "text/plain": [
       "True"
      ]
     },
     "execution_count": 24,
     "metadata": {},
     "output_type": "execute_result"
    }
   ],
   "source": [
    "2 <= 2"
   ]
  },
  {
   "cell_type": "code",
   "execution_count": 25,
   "id": "383a75c3",
   "metadata": {},
   "outputs": [
    {
     "data": {
      "text/plain": [
       "True"
      ]
     },
     "execution_count": 25,
     "metadata": {},
     "output_type": "execute_result"
    }
   ],
   "source": [
    "2 != 3 "
   ]
  },
  {
   "cell_type": "code",
   "execution_count": null,
   "id": "c9eb829b",
   "metadata": {},
   "outputs": [],
   "source": []
  }
 ],
 "metadata": {
  "kernelspec": {
   "display_name": "Python 3 (ipykernel)",
   "language": "python",
   "name": "python3"
  },
  "language_info": {
   "codemirror_mode": {
    "name": "ipython",
    "version": 3
   },
   "file_extension": ".py",
   "mimetype": "text/x-python",
   "name": "python",
   "nbconvert_exporter": "python",
   "pygments_lexer": "ipython3",
   "version": "3.11.4"
  }
 },
 "nbformat": 4,
 "nbformat_minor": 5
}
